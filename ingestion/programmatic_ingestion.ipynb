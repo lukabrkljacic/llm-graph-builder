{
 "cells": [
  {
   "cell_type": "markdown",
   "id": "3b112f9e",
   "metadata": {},
   "source": [
    "# Programmatic ingestion via the REST API\n",
    "\n",
    "The frontend normally drives the ingestion workflow by calling three FastAPI endpoints in sequence:\n",
    "\n",
    "1. [`/upload`](../backend/score.py) registers a `Document` node and stores the original file under `backend/merged_files`.\n",
    "2. [`/extract`](../backend/score.py) chunks the text, generates embeddings, writes graph triples, and updates the document status.\n",
    "3. [`/post_processing`](../backend/score.py) materialises optional indices (vector + hybrid search, similarity graph, etc.).\n",
    "\n",
    "When you already have a project that has been preprocessed into Markdown files the UI can be bypassed entirely. Run the backend as normal (for example with `uvicorn score:app --reload` from the `backend` directory or through Docker) and then call the helper located in `backend/scripts/bulk_ingest_via_api.py`.\n",
    "\n",
    "### Use directly from Python (ideal for notebooks)\n",
    "\n",
    "The helper exposes an `ingest_project_via_api` function so you can trigger ingestion from Python without touching the command line. This works well at the end of your preprocessing notebook:\n",
    "\n",
    "```python\n",
    "from backend.scripts.bulk_ingest_via_api import ingest_project_via_api\n",
    "\n",
    "ingest_project_via_api(\n",
    "    project_name=\"PROJECT_NAME\",\n",
    "    base_url=\"http://localhost:8000\",\n",
    "    uri=\"neo4j://neo4j:7687\",\n",
    "    user=\"neo4j\",\n",
    "    password=\"letmein123\",\n",
    "    database=\"neo4j\",\n",
    ")\n",
    "```\n",
    "\n",
    "All parameters fall back to the same environment variables that the UI relies on (`LLM_GRAPH_BUILDER_BASE_URL`, `NEO4J_URI`, etc.), so you can omit explicit arguments when they are already configured."
   ]
  },
  {
   "cell_type": "code",
   "execution_count": 2,
   "id": "7d88f0c2",
   "metadata": {},
   "outputs": [],
   "source": [
    "import sys\n",
    "from pathlib import Path\n",
    "\n",
    "repo_root = Path.cwd().resolve()\n",
    "while repo_root != repo_root.parent and not (repo_root / \"backend\").exists():\n",
    "    repo_root = repo_root.parent\n",
    "\n",
    "sys.path.insert(0, str(repo_root))"
   ]
  },
  {
   "cell_type": "code",
   "execution_count": 9,
   "id": "b30deb4d",
   "metadata": {},
   "outputs": [
    {
     "name": "stderr",
     "output_type": "stream",
     "text": [
      "INFO - Uploading Componentization- Decomposing Monolithic LLM Responses into Manipulable Semantic Units V1.md\n",
      "INFO - Extracting Componentization- Decomposing Monolithic LLM Responses into Manipulable Semantic Units V1.md\n",
      "INFO - Running post processing tasks: enable_hybrid_search_and_fulltext_search_in_bloom, materialize_text_chunk_similarities\n",
      "INFO - Completed ingestion for moadchat (1 files)\n"
     ]
    },
    {
     "data": {
      "text/plain": [
       "1"
      ]
     },
     "execution_count": 9,
     "metadata": {},
     "output_type": "execute_result"
    }
   ],
   "source": [
    "from backend.scripts.bulk_ingest_via_api import ingest_project_via_api\n",
    "\n",
    "PROJECT_NAME=\"moadchat\"\n",
    "\n",
    "ingest_project_via_api(\n",
    "    project_name=PROJECT_NAME,\n",
    "    base_url=\"http://localhost:8000\",\n",
    "    uri=\"neo4j://neo4j:7687\",\n",
    "    user=\"neo4j\",\n",
    "    password=\"letmein123\",\n",
    "    database=\"neo4j\",\n",
    "    model='openai_gpt_5_mini',\n",
    "    token_chunk_size=200,\n",
    "    chunk_overlap=50,\n",
    "    chunks_to_combine=1\n",
    ")"
   ]
  }
 ],
 "metadata": {
  "kernelspec": {
   "display_name": "Python 3",
   "language": "python",
   "name": "python3"
  },
  "language_info": {
   "codemirror_mode": {
    "name": "ipython",
    "version": 3
   },
   "file_extension": ".py",
   "mimetype": "text/x-python",
   "name": "python",
   "nbconvert_exporter": "python",
   "pygments_lexer": "ipython3",
   "version": "3.13.5"
  }
 },
 "nbformat": 4,
 "nbformat_minor": 5
}
