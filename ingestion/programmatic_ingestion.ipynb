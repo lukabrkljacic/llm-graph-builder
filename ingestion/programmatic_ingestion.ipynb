{
 "cells": [
  {
   "cell_type": "markdown",
   "id": "3b112f9e",
   "metadata": {},
   "source": [
    "# Programmatic ingestion via the REST API\n",
    "\n",
    "The frontend normally drives the ingestion workflow by calling three FastAPI endpoints in sequence:\n",
    "\n",
    "1. [`/upload`](../backend/score.py) registers a `Document` node and stores the original file under `backend/merged_files`.\n",
    "2. [`/extract`](../backend/score.py) chunks the text, generates embeddings, writes graph triples, and updates the document status.\n",
    "3. [`/post_processing`](../backend/score.py) materialises optional indices (vector + hybrid search, similarity graph, etc.).\n",
    "\n",
    "When you already have a project that has been preprocessed into Markdown files the UI can be bypassed entirely. Run the backend as normal (for example with `uvicorn score:app --reload` from the `backend` directory or through Docker) and then call the helper located in `backend/scripts/bulk_ingest_via_api.py`.\n",
    "\n",
    "### Use directly from Python (ideal for notebooks)\n",
    "\n",
    "The helper exposes an `ingest_project_via_api` function so you can trigger ingestion from Python without touching the command line. This works well at the end of your preprocessing notebook:\n",
    "\n",
    "```python\n",
    "from backend.scripts.bulk_ingest_via_api import ingest_project_via_api\n",
    "\n",
    "ingest_project_via_api(\n",
    "    project_name=\"PROJECT_NAME\",\n",
    "    base_url=\"http://localhost:8000\",\n",
    "    uri=\"neo4j://neo4j:7687\",\n",
    "    user=\"neo4j\",\n",
    "    password=\"letmein123\",\n",
    "    database=\"neo4j\",\n",
    ")\n",
    "```\n",
    "\n",
    "All parameters fall back to the same environment variables that the UI relies on (`LLM_GRAPH_BUILDER_BASE_URL`, `NEO4J_URI`, etc.), so you can omit explicit arguments when they are already configured."
   ]
  },
  {
   "cell_type": "code",
   "execution_count": 3,
   "id": "7d88f0c2",
   "metadata": {},
   "outputs": [],
   "source": [
    "import sys\n",
    "from pathlib import Path\n",
    "\n",
    "repo_root = Path.cwd().resolve()\n",
    "while repo_root != repo_root.parent and not (repo_root / \"backend\").exists():\n",
    "    repo_root = repo_root.parent\n",
    "\n",
    "sys.path.insert(0, str(repo_root))"
   ]
  },
  {
   "cell_type": "code",
   "execution_count": 4,
   "id": "b30deb4d",
   "metadata": {},
   "outputs": [
    {
     "name": "stderr",
     "output_type": "stream",
     "text": [
      "INFO - Uploading 20251006_Mobility x Wellness Workshop_Mitsuzawa.md\n",
      "INFO - Extracting 20251006_Mobility x Wellness Workshop_Mitsuzawa.md\n",
      "INFO - Uploading 250923_alcohol_forWS.md\n",
      "INFO - Extracting 250923_alcohol_forWS.md\n",
      "INFO - Uploading Agenda_Bios_Mobility Wellness 1.md\n",
      "INFO - Extracting Agenda_Bios_Mobility Wellness 1.md\n",
      "INFO - Uploading Angela 1.md\n",
      "INFO - Extracting Angela 1.md\n",
      "INFO - Uploading Angela1 1.md\n",
      "INFO - Extracting Angela1 1.md\n",
      "INFO - Uploading Ashley 1.md\n",
      "INFO - Extracting Ashley 1.md\n",
      "INFO - Uploading Ashley1 1.md\n",
      "INFO - Extracting Ashley1 1.md\n",
      "INFO - Uploading Carrington_WheelSense_MobilityxWellness.md\n",
      "INFO - Extracting Carrington_WheelSense_MobilityxWellness.md\n",
      "INFO - Uploading DabelkoSchoeny_99 P Labs_Workshop Oct 2025  (1).pptx.md\n",
      "INFO - Extracting DabelkoSchoeny_99 P Labs_Workshop Oct 2025  (1).pptx.md\n",
      "INFO - Uploading Delirium EEG for Honda 10-6-2025.md\n",
      "INFO - Extracting Delirium EEG for Honda 10-6-2025.md\n",
      "INFO - Uploading Diego 1.md\n",
      "INFO - Extracting Diego 1.md\n",
      "INFO - Uploading Diego1 1.md\n",
      "INFO - Extracting Diego1 1.md\n",
      "INFO - Uploading George.md\n",
      "INFO - Extracting George.md\n",
      "INFO - Uploading George1 1.md\n",
      "INFO - Extracting George1 1.md\n",
      "INFO - Uploading HappyHondaBikeChain.md\n",
      "INFO - Extracting HappyHondaBikeChain.md\n",
      "INFO - Uploading How Might We_sorted.md\n",
      "INFO - Extracting How Might We_sorted.md\n",
      "INFO - Uploading IMG_3448.md\n",
      "INFO - Extracting IMG_3448.md\n",
      "INFO - Uploading IMG_3449.md\n",
      "INFO - Extracting IMG_3449.md\n",
      "INFO - Uploading IMG_3450.md\n",
      "INFO - Extracting IMG_3450.md\n",
      "INFO - Uploading Martelaro-Honda-Workshop (1).md\n",
      "INFO - Extracting Martelaro-Honda-Workshop (1).md\n",
      "INFO - Uploading Mayank_Honda Research Talk (Fall 2025).md\n",
      "INFO - Extracting Mayank_Honda Research Talk (Fall 2025).md\n",
      "INFO - Uploading Molecular Wellness - Honda Research Institute Mobility x Wellness - Cole 2025.md\n",
      "INFO - Extracting Molecular Wellness - Honda Research Institute Mobility x Wellness - Cole 2025.md\n",
      "INFO - Uploading MotorCoach.md\n",
      "INFO - Extracting MotorCoach.md\n",
      "INFO - Uploading PairAssistLink.md\n",
      "INFO - Extracting PairAssistLink.md\n",
      "INFO - Uploading SightLine 1.md\n",
      "INFO - Extracting SightLine 1.md\n",
      "INFO - Uploading SujitDey_Honda Mobility-Health v1.md\n",
      "INFO - Extracting SujitDey_Honda Mobility-Health v1.md\n",
      "INFO - Uploading Transcription_Mobility X Wellness Recorded Teams Link.md\n",
      "INFO - Extracting Transcription_Mobility X Wellness Recorded Teams Link.md\n",
      "INFO - Uploading ★★250929_SEED_NeuroScienceResearch_EN.md\n",
      "INFO - Extracting ★★250929_SEED_NeuroScienceResearch_EN.md\n",
      "INFO - Running post processing tasks: materialize_text_chunk_similarities, enable_hybrid_search_and_fulltext_search_in_bloom, materialize_entity_similarities, enable_communities\n",
      "INFO - Completed ingestion for Mobility_Wellness_Workshop (28 files)\n"
     ]
    },
    {
     "data": {
      "text/plain": [
       "28"
      ]
     },
     "execution_count": 4,
     "metadata": {},
     "output_type": "execute_result"
    }
   ],
   "source": [
    "from backend.scripts.bulk_ingest_via_api import ingest_project_via_api\n",
    "\n",
    "PROJECT_NAME=\"Mobility_Wellness_Workshop\"\n",
    "POST_PROCESSING_TASKS = (\n",
    "    'materialize_text_chunk_similarities',\n",
    "    'enable_hybrid_search_and_fulltext_search_in_bloom',\n",
    "    'materialize_entity_similarities',\n",
    "    'enable_communities'\n",
    ")\n",
    "\n",
    "ingest_project_via_api(\n",
    "    project_name=PROJECT_NAME,\n",
    "    base_url=\"http://localhost:8000\",\n",
    "    uri=\"neo4j://neo4j:7687\",\n",
    "    user=\"neo4j\",\n",
    "    password=\"letmein123\",\n",
    "    database=\"neo4j\",\n",
    "    model='openai_gpt_5_mini',\n",
    "    token_chunk_size=200,\n",
    "    chunk_overlap=50,\n",
    "    chunks_to_combine=1,\n",
    "    post_processing_tasks=POST_PROCESSING_TASKS,\n",
    "    skip_post_processing=False\n",
    ")"
   ]
  }
 ],
 "metadata": {
  "kernelspec": {
   "display_name": "Python 3",
   "language": "python",
   "name": "python3"
  },
  "language_info": {
   "codemirror_mode": {
    "name": "ipython",
    "version": 3
   },
   "file_extension": ".py",
   "mimetype": "text/x-python",
   "name": "python",
   "nbconvert_exporter": "python",
   "pygments_lexer": "ipython3",
   "version": "3.13.5"
  }
 },
 "nbformat": 4,
 "nbformat_minor": 5
}
